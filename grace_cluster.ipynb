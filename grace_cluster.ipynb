{
 "cells": [
  {
   "cell_type": "code",
   "execution_count": 1,
   "id": "b2147a0c",
   "metadata": {},
   "outputs": [],
   "source": [
    "#普通模块\n",
    "import cudf\n",
    "import h5py\n",
    "import argparse\n",
    "import numba as nb\n",
    "import numpy as np\n",
    "import pandas as pd\n",
    "import scanpy as sc\n",
    "from tqdm import tqdm\n",
    "import os.path as osp\n",
    "import scipy.sparse as sp\n",
    "from IPython.display import Image\n",
    "\n",
    "#sklearn 模块\n",
    "from sklearn import neighbors\n",
    "from sklearn.cluster import KMeans\n",
    "from sklearn.metrics import (accuracy_score, adjusted_rand_score,\n",
    "                             calinski_harabasz_score,\n",
    "                             normalized_mutual_info_score, silhouette_score)\n",
    "\n",
    "import os\n",
    "os.environ[\"KMP_DUPLICATE_LIB_OK\"]=\"TRUE\"\n",
    "\n",
    "#pytorch模块\n",
    "import torch\n",
    "import torch.nn as nn\n",
    "import torch.nn.functional as F\n",
    "from torch.optim import AdamW, Adam\n",
    "\n",
    "#GCL模块\n",
    "import GCL.losses as L\n",
    "import GCL.augmentors as A\n",
    "from GCL.models import DualBranchContrast,SingleBranchContrast\n",
    "\n",
    "#pyg模块\n",
    "from torch_geometric.data import Data\n",
    "import torch_geometric.transforms as T\n",
    "from torch_geometric.nn.inits import uniform\n",
    "from torch_geometric.datasets import Planetoid\n",
    "from torch_geometric.utils import to_undirected\n",
    "from torch_geometric.nn import GCNConv,GCN2Conv,GATv2Conv,GCN,GATConv\n",
    "\n",
    "#自定义模块\n",
    "#import contrastive_loss\n",
    "import evaluation\n",
    "from utils import filter_data,input_data, cal_weights_via_CAN, normalize, draw_fig, distance"
   ]
  },
  {
   "cell_type": "code",
   "execution_count": 2,
   "id": "d5a5840f",
   "metadata": {},
   "outputs": [],
   "source": [
    "parser = argparse.ArgumentParser(description='Grace')\n",
    "parser.add_argument('--dataset',type=str,default='../../data/QS_Lung.h5ad')\n",
    "parser.add_argument('--graph',type=str,default='knn')\n",
    "parser.add_argument('--filter',type=str,default='nofilter')\n",
    "args = parser.parse_args([])"
   ]
  },
  {
   "cell_type": "code",
   "execution_count": 3,
   "id": "f2d3652d",
   "metadata": {},
   "outputs": [
    {
     "data": {
      "text/plain": [
       "'nofilter'"
      ]
     },
     "execution_count": 3,
     "metadata": {},
     "output_type": "execute_result"
    }
   ],
   "source": [
    "args.filter"
   ]
  },
  {
   "cell_type": "code",
   "execution_count": 4,
   "id": "0dc547b8",
   "metadata": {},
   "outputs": [
    {
     "name": "stdout",
     "output_type": "stream",
     "text": [
      "label_number: 11\n",
      "Successfully preprocessed 1676 cells and 18162 genes.\n"
     ]
    }
   ],
   "source": [
    "if args.filter == 'filter':\n",
    "    adata = sc.read_h5ad(args.dataset)\n",
    "    true_label = np.array(adata.obs.cell_label)\n",
    "    label_number = np.unique(true_label).max() - np.unique(true_label).min() + 1\n",
    "    adata = filter_data(adata.X, highly_genes=3000)\n",
    "    \n",
    "    input_size = adata.X.shape[1]\n",
    "    \n",
    "    print('label_number:',label_number)\n",
    "    print('adata_shape:',adata.X.shape)\n",
    "\n",
    "if args.filter == 'nofilter':\n",
    "    adata = input_data(args.dataset)\n",
    "    true_label = np.array(adata.obs.cell_label)\n",
    "    input_size = adata.X.shape[1]"
   ]
  },
  {
   "cell_type": "code",
   "execution_count": 5,
   "id": "ea7be99d",
   "metadata": {},
   "outputs": [
    {
     "data": {
      "text/plain": [
       "18162"
      ]
     },
     "execution_count": 5,
     "metadata": {},
     "output_type": "execute_result"
    }
   ],
   "source": [
    "input_size"
   ]
  },
  {
   "cell_type": "code",
   "execution_count": 6,
   "id": "1fab850f",
   "metadata": {},
   "outputs": [
    {
     "data": {
      "text/plain": [
       "\"data_mat = h5py.File(args.dataset)\\nX = np.array(data_mat['X'])\\ntrue_label = np.array(data_mat['Y'])\\n\\n\\nlabel_number = np.unique(true_label)\\nadata = filter_data(X, highly_genes=3000)\\ninput_size = adata.X.shape[1]\\n\\nprint('label_number:',label_number.max())\\nprint('adata_shape:',adata.X.shape)\""
      ]
     },
     "execution_count": 6,
     "metadata": {},
     "output_type": "execute_result"
    }
   ],
   "source": [
    "'''data_mat = h5py.File(args.dataset)\n",
    "X = np.array(data_mat['X'])\n",
    "true_label = np.array(data_mat['Y'])\n",
    "\n",
    "\n",
    "label_number = np.unique(true_label)\n",
    "adata = filter_data(X, highly_genes=3000)\n",
    "input_size = adata.X.shape[1]\n",
    "\n",
    "print('label_number:',label_number.max())\n",
    "print('adata_shape:',adata.X.shape)'''"
   ]
  },
  {
   "cell_type": "code",
   "execution_count": 7,
   "id": "b1664d25",
   "metadata": {},
   "outputs": [
    {
     "name": "stderr",
     "output_type": "stream",
     "text": [
      "/tmp/ipykernel_189464/988050335.py:6: UserWarning: Creating a tensor from a list of numpy.ndarrays is extremely slow. Please consider converting the list to a single numpy.ndarray with numpy.array() before converting to a tensor. (Triggered internally at  ../torch/csrc/utils/tensor_new.cpp:210.)\n",
      "  edge_index = torch.tensor([source,target], dtype=torch.long)\n"
     ]
    }
   ],
   "source": [
    "if args.graph == 'knn':\n",
    "    KNN_graph = neighbors.kneighbors_graph(adata.X, n_neighbors=10, mode = 'connectivity', n_jobs=30)\n",
    "    KNN_g = np.array(np.nonzero(KNN_graph.todense()))\n",
    "    source = np.array(KNN_g[0])\n",
    "    target = np.array(KNN_g[1])\n",
    "    edge_index = torch.tensor([source,target], dtype=torch.long)\n",
    "    edge_index = to_undirected(edge_index)\n",
    "    graph = Data(x=torch.tensor(adata.X),edge_index=edge_index)\n",
    "    norm = T.GCNNorm()\n",
    "    graph = norm(graph)\n",
    "    \n",
    "if args.graph == 'CAN':\n",
    "    adj, raw_weights = cal_weights_via_CAN(torch.tensor(adata.X.T), num_neighbors=10)\n",
    "    adj = adj.cpu().detach().numpy()\n",
    "    adj = normalize(adj)\n",
    "    adj = sp.coo_matrix(adj)\n",
    "    \n",
    "    indices=np.vstack((adj.row,adj.col))\n",
    "    edge_index = torch.LongTensor(indices)\n",
    "    edge_index = to_undirected(edge_index)\n",
    "    values=torch.FloatTensor(adj.data)\n",
    "    \n",
    "    graph = Data(x=torch.tensor(adata.X),edge_index=edge_index)\n",
    "    adj, raw_weights = cal_weights_via_CAN(torch.tensor(adata.X.T), num_neighbors=5)"
   ]
  },
  {
   "cell_type": "code",
   "execution_count": 8,
   "id": "74c6dfaf",
   "metadata": {},
   "outputs": [],
   "source": [
    "class GConv(torch.nn.Module):\n",
    "    def __init__(self, input_dim, hidden_dim, activation, num_layers):\n",
    "        super(GConv, self).__init__()\n",
    "        self.activation = activation()\n",
    "        self.layers = torch.nn.ModuleList()\n",
    "        self.layers.append(GATConv(input_dim, hidden_dim,dropout=0.8))\n",
    "        for _ in range(num_layers - 1):\n",
    "            self.layers.append(GCNConv(hidden_dim, hidden_dim))\n",
    "\n",
    "    def forward(self, x, edge_index, edge_weight):\n",
    "        z = x.float()\n",
    "        for i, conv in enumerate(self.layers):\n",
    "            z = conv(z, edge_index, edge_weight)\n",
    "            z = self.activation(z)\n",
    "        return z"
   ]
  },
  {
   "cell_type": "code",
   "execution_count": 9,
   "id": "55659fd3",
   "metadata": {},
   "outputs": [],
   "source": [
    "class Encoder(torch.nn.Module):\n",
    "    def __init__(self, encoder, augmentor, hidden_dim, proj_dim):\n",
    "        super(Encoder, self).__init__()\n",
    "        self.encoder = encoder\n",
    "        self.augmentor = augmentor\n",
    "\n",
    "        self.fc1 = torch.nn.Linear(hidden_dim, proj_dim)\n",
    "        self.fc2 = torch.nn.Linear(proj_dim, hidden_dim)\n",
    "\n",
    "    def forward(self, x, edge_index, edge_weight=None):\n",
    "        aug1, aug2 = self.augmentor\n",
    "        x1, edge_index1, edge_weight1 = aug1(x, edge_index, edge_weight)\n",
    "        x2, edge_index2, edge_weight2 = aug2(x, edge_index, edge_weight)\n",
    "        z = self.encoder(x, edge_index, edge_weight)\n",
    "        z1 = self.encoder(x1, edge_index1, edge_weight1)\n",
    "        z2 = self.encoder(x2, edge_index2, edge_weight2)\n",
    "        h,h1,h2 = [self.project(x) for x in [z,z1,z2]] \n",
    "        return h,h1,h2\n",
    "    \n",
    "    def project(self, z: torch.Tensor) -> torch.Tensor:\n",
    "        z = F.elu(self.fc1(z))\n",
    "        return self.fc2(z)"
   ]
  },
  {
   "cell_type": "code",
   "execution_count": 10,
   "id": "de3145d6",
   "metadata": {},
   "outputs": [],
   "source": [
    "def train(encoder_model, contrast_model, data, optimizer):\n",
    "    encoder_model.train()\n",
    "    optimizer.zero_grad()\n",
    "    h, h1, h2 = encoder_model(data.x, data.edge_index, data.edge_attr)\n",
    "    loss = contrast_model(h1, h2)\n",
    "    loss.backward()\n",
    "    optimizer.step()\n",
    "    return loss.item()"
   ]
  },
  {
   "cell_type": "code",
   "execution_count": 11,
   "id": "2b602a58",
   "metadata": {},
   "outputs": [],
   "source": [
    "@torch.no_grad()\n",
    "def test(encoder_model, data):\n",
    "    encoder_model.eval()\n",
    "    h, h1, h2 = encoder_model(data.x, data.edge_index)\n",
    "    return h"
   ]
  },
  {
   "cell_type": "code",
   "execution_count": 12,
   "id": "5c4712eb",
   "metadata": {},
   "outputs": [],
   "source": [
    "def main():\n",
    "    seed = 21\n",
    "    torch.manual_seed(seed)\n",
    "    torch.cuda.manual_seed_all(seed)\n",
    "    torch.cuda.manual_seed(seed)\n",
    "    np.random.seed(seed)\n",
    "    \n",
    "    device = torch.device('cuda:0')\n",
    "    data = graph.to(device)\n",
    "    \n",
    "    kmeans = KMeans(n_clusters=11, init=\"k-means++\", random_state=5)\n",
    "    \n",
    "    def run_leiden(data):\n",
    "        adata = sc.AnnData(data)\n",
    "        sc.pp.neighbors(adata, use_rep='X', n_neighbors = 30, n_pcs = 40)\n",
    "        sc.tl.leiden(adata)\n",
    "        pred = adata.obs['leiden'].to_list()\n",
    "        pred = [int(x) for x in pred]\n",
    "        return pred\n",
    "\n",
    "    aug1 = A.Compose([A.EdgeRemoving(pe=0.7), A.FeatureMasking(pf=0.7)])\n",
    "    aug2 = A.Compose([A.EdgeRemoving(pe=0.7), A.FeatureMasking(pf=0.7)])\n",
    "\n",
    "    gconv = GConv(input_dim=input_size, hidden_dim=256, activation=torch.nn.GELU, num_layers=2).to(device)\n",
    "    encoder_model = Encoder(encoder=gconv, augmentor=(aug1, aug2), hidden_dim=256, proj_dim=128).to(device)\n",
    "\n",
    "    contrast_model = DualBranchContrast(loss=L.InfoNCE(tau=0.05), mode='L2L', intraview_negs=True).to(device)\n",
    "    \n",
    "    optimizer = AdamW(encoder_model.parameters(), lr=3e-4)\n",
    "    \n",
    "    ari_klist = []\n",
    "    ari_llist = []\n",
    "    losslist = []\n",
    "    with tqdm(total=5000, desc='(T)') as pbar:\n",
    "        for epoch in range(1, 5001):\n",
    "            loss = train(encoder_model, contrast_model, data, optimizer)\n",
    "            pbar.set_postfix({'loss': loss})\n",
    "            pbar.update()\n",
    "            \n",
    "            losslist.append(loss)\n",
    "            \n",
    "            '''z = test(encoder_model, data).detach().cpu()\n",
    "            \n",
    "            if epoch % 100 == 0:\n",
    "                kmeans_pred = kmeans.fit_predict(z)\n",
    "                ari_k = round(adjusted_rand_score(true_label, kmeans_pred), 4)\n",
    "                ari_klist.append(ari_k)'''\n",
    "            \n",
    "    z = test(encoder_model, data).detach().cpu()\n",
    "    print(z.shape)\n",
    "    \n",
    "    kmeans_pred = kmeans.fit_predict(z)\n",
    "    ari_k = round(adjusted_rand_score(true_label, kmeans_pred), 4)\n",
    "    nmi_k = round(normalized_mutual_info_score(true_label, kmeans_pred), 4)\n",
    "    ari_klist.append(ari_k)\n",
    "    \n",
    "    '''\n",
    "    leiden_pred = run_leiden(np.array(z))\n",
    "    ari_l = round(adjusted_rand_score(true_label, leiden_pred), 4)\n",
    "    ari_llist.append(ari_l)\n",
    "                \n",
    "    '''\n",
    "        \n",
    " \n",
    "    return ari_klist"
   ]
  },
  {
   "cell_type": "code",
   "execution_count": 39,
   "id": "19c66246",
   "metadata": {},
   "outputs": [
    {
     "name": "stdout",
     "output_type": "stream",
     "text": [
      "Encoder(\n",
      "  (encoder): GConv(\n",
      "    (activation): GELU()\n",
      "    (layers): ModuleList(\n",
      "      (0): GATConv(18162, 128, heads=1)\n",
      "      (1): GCNConv(128, 128)\n",
      "    )\n",
      "  )\n",
      "  (fc1): Linear(in_features=128, out_features=64, bias=True)\n",
      "  (fc2): Linear(in_features=64, out_features=128, bias=True)\n",
      ")\n"
     ]
    },
    {
     "name": "stderr",
     "output_type": "stream",
     "text": [
      "(T): 100%|████████████████████████████████████████████████████████████████████████████████████████████████████████████████████████████| 5000/5000 [01:27<00:00, 57.17it/s, loss=5.08]\n"
     ]
    },
    {
     "name": "stdout",
     "output_type": "stream",
     "text": [
      "torch.Size([1676, 128])\n",
      "[0.4986]\n"
     ]
    }
   ],
   "source": [
    "ari_klist = main()\n",
    "print(ari_klist)"
   ]
  },
  {
   "cell_type": "code",
   "execution_count": 18,
   "id": "2b02d173",
   "metadata": {},
   "outputs": [
    {
     "name": "stdout",
     "output_type": "stream",
     "text": [
      "range(1, 5001)\n"
     ]
    },
    {
     "data": {
      "image/png": "[encoded data removed]",
      "text/plain": [
       "<Figure size 432x288 with 1 Axes>"
      ]
     },
     "metadata": {
      "needs_background": "light"
     },
     "output_type": "display_data"
    }
   ],
   "source": [
    "draw_fig(losslist,'loss',5000)"
   ]
  },
  {
   "cell_type": "code",
   "execution_count": null,
   "id": "65aa4d10",
   "metadata": {},
   "outputs": [
    {
     "name": "stderr",
     "output_type": "stream",
     "text": [
      "(T):  16%|████████████████████▌                                                                                                        | 820/5000 [00:22<01:18, 53.57it/s, loss=5.53]"
     ]
    }
   ],
   "source": [
    "ari_k = []\n",
    "for i in range(5):\n",
    "    ari_klist = main()\n",
    "    print(ari_klist)\n",
    "    ari_k.append(ari_klist[0])\n",
    "ari = sum(ari_k)/len(ari_k)\n",
    "print(ari)"
   ]
  },
  {
   "cell_type": "code",
   "execution_count": 17,
   "id": "67f683c2",
   "metadata": {},
   "outputs": [
    {
     "data": {
      "text/plain": [
       "[0.574, 0.528, 0.5559, 0.5776, 0.5767]"
      ]
     },
     "execution_count": 17,
     "metadata": {},
     "output_type": "execute_result"
    }
   ],
   "source": [
    "ari_k"
   ]
  },
  {
   "cell_type": "code",
   "execution_count": null,
   "id": "41f5dead",
   "metadata": {},
   "outputs": [],
   "source": [
    "\n",
    "Young: 0.5624 3000epochs 3000高变基因 3\n",
    "mouse_ES_cell: 0.5715 3000epochs 3000高变基因 4\n",
    "mouse_bladder.h5ad: 0.5361 1797高变基因 2\n",
    "worm_neuron.h5ad: 0.2737  1328高变基因 3\n",
    "QS_Trachea.h5ad: 0.563\n",
    "\n",
    "10X_PBMC.h5ad: 0.6277799999999999 1291高变基因\n",
    "Romanov.h5ad: 0.521 3000高变基因\n",
    "QS_Diaphragm.h5ad: 0.8492200000000001 3000高变基因\n",
    "QS_Limb_Muscle.h5ad: 0.9024599999999999 3000高变基因\n",
    "QS_Lung.h5ad: 0.50148 3000高变基因"
   ]
  },
  {
   "cell_type": "code",
   "execution_count": null,
   "id": "bbe3a025",
   "metadata": {},
   "outputs": [],
   "source": [
    "10X_PBMC.h5ad:0.66\n"
   ]
  },
  {
   "cell_type": "code",
   "execution_count": 62,
   "id": "1258515b",
   "metadata": {
    "scrolled": true
   },
   "outputs": [
    {
     "name": "stderr",
     "output_type": "stream",
     "text": [
      "(T): 100%|██████████████████████████████████████| 3000/3000 [01:39<00:00, 30.27it/s, loss=6.04]\n"
     ]
    },
    {
     "name": "stdout",
     "output_type": "stream",
     "text": [
      "torch.Size([4271, 256])\n"
     ]
    },
    {
     "name": "stderr",
     "output_type": "stream",
     "text": [
      "(T): 100%|██████████████████████████████████████| 3000/3000 [01:38<00:00, 30.36it/s, loss=5.97]\n"
     ]
    },
    {
     "name": "stdout",
     "output_type": "stream",
     "text": [
      "torch.Size([4271, 256])\n"
     ]
    },
    {
     "name": "stderr",
     "output_type": "stream",
     "text": [
      "(T): 100%|██████████████████████████████████████| 3000/3000 [01:38<00:00, 30.45it/s, loss=5.93]\n"
     ]
    },
    {
     "name": "stdout",
     "output_type": "stream",
     "text": [
      "torch.Size([4271, 256])\n"
     ]
    },
    {
     "name": "stderr",
     "output_type": "stream",
     "text": [
      "(T): 100%|██████████████████████████████████████| 3000/3000 [01:39<00:00, 30.30it/s, loss=5.96]\n"
     ]
    },
    {
     "name": "stdout",
     "output_type": "stream",
     "text": [
      "torch.Size([4271, 256])\n"
     ]
    },
    {
     "name": "stderr",
     "output_type": "stream",
     "text": [
      "(T): 100%|██████████████████████████████████████| 3000/3000 [01:37<00:00, 30.66it/s, loss=5.96]\n"
     ]
    },
    {
     "name": "stdout",
     "output_type": "stream",
     "text": [
      "torch.Size([4271, 256])\n"
     ]
    },
    {
     "name": "stderr",
     "output_type": "stream",
     "text": [
      "(T): 100%|██████████████████████████████████████| 3000/3000 [01:39<00:00, 30.25it/s, loss=6.17]\n"
     ]
    },
    {
     "name": "stdout",
     "output_type": "stream",
     "text": [
      "torch.Size([4271, 256])\n"
     ]
    },
    {
     "name": "stderr",
     "output_type": "stream",
     "text": [
      "(T): 100%|██████████████████████████████████████| 3000/3000 [01:37<00:00, 30.90it/s, loss=6.17]\n"
     ]
    },
    {
     "name": "stdout",
     "output_type": "stream",
     "text": [
      "torch.Size([4271, 256])\n"
     ]
    },
    {
     "name": "stderr",
     "output_type": "stream",
     "text": [
      "(T): 100%|██████████████████████████████████████| 3000/3000 [01:37<00:00, 30.65it/s, loss=6.17]\n"
     ]
    },
    {
     "name": "stdout",
     "output_type": "stream",
     "text": [
      "torch.Size([4271, 256])\n"
     ]
    },
    {
     "name": "stderr",
     "output_type": "stream",
     "text": [
      "(T): 100%|██████████████████████████████████████| 3000/3000 [01:38<00:00, 30.55it/s, loss=6.15]\n"
     ]
    },
    {
     "name": "stdout",
     "output_type": "stream",
     "text": [
      "torch.Size([4271, 256])\n"
     ]
    },
    {
     "name": "stderr",
     "output_type": "stream",
     "text": [
      "(T): 100%|██████████████████████████████████████| 3000/3000 [01:37<00:00, 30.63it/s, loss=6.14]\n"
     ]
    },
    {
     "name": "stdout",
     "output_type": "stream",
     "text": [
      "torch.Size([4271, 256])\n"
     ]
    },
    {
     "name": "stderr",
     "output_type": "stream",
     "text": [
      "(T): 100%|██████████████████████████████████████| 3000/3000 [01:38<00:00, 30.59it/s, loss=6.27]\n"
     ]
    },
    {
     "name": "stdout",
     "output_type": "stream",
     "text": [
      "torch.Size([4271, 256])\n"
     ]
    },
    {
     "name": "stderr",
     "output_type": "stream",
     "text": [
      "(T): 100%|██████████████████████████████████████| 3000/3000 [01:38<00:00, 30.59it/s, loss=6.27]\n"
     ]
    },
    {
     "name": "stdout",
     "output_type": "stream",
     "text": [
      "torch.Size([4271, 256])\n"
     ]
    },
    {
     "name": "stderr",
     "output_type": "stream",
     "text": [
      "(T): 100%|███████████████████████████████████████| 3000/3000 [01:39<00:00, 30.14it/s, loss=6.3]\n"
     ]
    },
    {
     "name": "stdout",
     "output_type": "stream",
     "text": [
      "torch.Size([4271, 256])\n"
     ]
    },
    {
     "name": "stderr",
     "output_type": "stream",
     "text": [
      "(T): 100%|██████████████████████████████████████| 3000/3000 [01:38<00:00, 30.35it/s, loss=6.37]\n"
     ]
    },
    {
     "name": "stdout",
     "output_type": "stream",
     "text": [
      "torch.Size([4271, 256])\n"
     ]
    },
    {
     "name": "stderr",
     "output_type": "stream",
     "text": [
      "(T): 100%|██████████████████████████████████████| 3000/3000 [01:39<00:00, 30.24it/s, loss=6.32]\n"
     ]
    },
    {
     "name": "stdout",
     "output_type": "stream",
     "text": [
      "torch.Size([4271, 256])\n"
     ]
    },
    {
     "name": "stderr",
     "output_type": "stream",
     "text": [
      "(T): 100%|██████████████████████████████████████| 3000/3000 [01:39<00:00, 30.30it/s, loss=6.47]\n"
     ]
    },
    {
     "name": "stdout",
     "output_type": "stream",
     "text": [
      "torch.Size([4271, 256])\n"
     ]
    },
    {
     "name": "stderr",
     "output_type": "stream",
     "text": [
      "(T): 100%|██████████████████████████████████████| 3000/3000 [01:38<00:00, 30.41it/s, loss=6.47]\n"
     ]
    },
    {
     "name": "stdout",
     "output_type": "stream",
     "text": [
      "torch.Size([4271, 256])\n"
     ]
    },
    {
     "name": "stderr",
     "output_type": "stream",
     "text": [
      "(T): 100%|██████████████████████████████████████| 3000/3000 [01:38<00:00, 30.34it/s, loss=6.38]\n"
     ]
    },
    {
     "name": "stdout",
     "output_type": "stream",
     "text": [
      "torch.Size([4271, 256])\n"
     ]
    },
    {
     "name": "stderr",
     "output_type": "stream",
     "text": [
      "(T): 100%|██████████████████████████████████████| 3000/3000 [01:38<00:00, 30.42it/s, loss=6.41]\n"
     ]
    },
    {
     "name": "stdout",
     "output_type": "stream",
     "text": [
      "torch.Size([4271, 256])\n"
     ]
    },
    {
     "name": "stderr",
     "output_type": "stream",
     "text": [
      "(T): 100%|██████████████████████████████████████| 3000/3000 [01:38<00:00, 30.37it/s, loss=6.47]\n"
     ]
    },
    {
     "name": "stdout",
     "output_type": "stream",
     "text": [
      "torch.Size([4271, 256])\n"
     ]
    },
    {
     "name": "stderr",
     "output_type": "stream",
     "text": [
      "(T): 100%|██████████████████████████████████████| 3000/3000 [01:38<00:00, 30.34it/s, loss=6.51]\n"
     ]
    },
    {
     "name": "stdout",
     "output_type": "stream",
     "text": [
      "torch.Size([4271, 256])\n"
     ]
    },
    {
     "name": "stderr",
     "output_type": "stream",
     "text": [
      "(T): 100%|██████████████████████████████████████| 3000/3000 [01:38<00:00, 30.32it/s, loss=6.51]\n"
     ]
    },
    {
     "name": "stdout",
     "output_type": "stream",
     "text": [
      "torch.Size([4271, 256])\n"
     ]
    },
    {
     "name": "stderr",
     "output_type": "stream",
     "text": [
      "(T): 100%|██████████████████████████████████████| 3000/3000 [01:39<00:00, 30.29it/s, loss=6.62]\n"
     ]
    },
    {
     "name": "stdout",
     "output_type": "stream",
     "text": [
      "torch.Size([4271, 256])\n"
     ]
    },
    {
     "name": "stderr",
     "output_type": "stream",
     "text": [
      "(T): 100%|██████████████████████████████████████| 3000/3000 [01:38<00:00, 30.32it/s, loss=6.69]\n"
     ]
    },
    {
     "name": "stdout",
     "output_type": "stream",
     "text": [
      "torch.Size([4271, 256])\n"
     ]
    },
    {
     "name": "stderr",
     "output_type": "stream",
     "text": [
      "(T): 100%|██████████████████████████████████████| 3000/3000 [01:39<00:00, 30.05it/s, loss=6.66]\n"
     ]
    },
    {
     "name": "stdout",
     "output_type": "stream",
     "text": [
      "torch.Size([4271, 256])\n"
     ]
    },
    {
     "name": "stderr",
     "output_type": "stream",
     "text": [
      "(T): 100%|██████████████████████████████████████| 3000/3000 [01:37<00:00, 30.67it/s, loss=6.73]\n"
     ]
    },
    {
     "name": "stdout",
     "output_type": "stream",
     "text": [
      "torch.Size([4271, 256])\n"
     ]
    },
    {
     "name": "stderr",
     "output_type": "stream",
     "text": [
      "(T): 100%|███████████████████████████████████████| 3000/3000 [01:38<00:00, 30.31it/s, loss=6.8]\n"
     ]
    },
    {
     "name": "stdout",
     "output_type": "stream",
     "text": [
      "torch.Size([4271, 256])\n"
     ]
    },
    {
     "name": "stderr",
     "output_type": "stream",
     "text": [
      "(T): 100%|██████████████████████████████████████| 3000/3000 [01:38<00:00, 30.61it/s, loss=6.77]\n"
     ]
    },
    {
     "name": "stdout",
     "output_type": "stream",
     "text": [
      "torch.Size([4271, 256])\n"
     ]
    },
    {
     "name": "stderr",
     "output_type": "stream",
     "text": [
      "(T): 100%|███████████████████████████████████████| 3000/3000 [01:38<00:00, 30.49it/s, loss=6.8]\n"
     ]
    },
    {
     "name": "stdout",
     "output_type": "stream",
     "text": [
      "torch.Size([4271, 256])\n"
     ]
    },
    {
     "name": "stderr",
     "output_type": "stream",
     "text": [
      "(T): 100%|██████████████████████████████████████| 3000/3000 [01:38<00:00, 30.58it/s, loss=6.75]\n"
     ]
    },
    {
     "name": "stdout",
     "output_type": "stream",
     "text": [
      "torch.Size([4271, 256])\n"
     ]
    },
    {
     "name": "stderr",
     "output_type": "stream",
     "text": [
      "(T): 100%|███████████████████████████████████████| 3000/3000 [01:38<00:00, 30.42it/s, loss=6.9]\n"
     ]
    },
    {
     "name": "stdout",
     "output_type": "stream",
     "text": [
      "torch.Size([4271, 256])\n"
     ]
    },
    {
     "name": "stderr",
     "output_type": "stream",
     "text": [
      "(T): 100%|██████████████████████████████████████| 3000/3000 [01:38<00:00, 30.53it/s, loss=6.91]\n"
     ]
    },
    {
     "name": "stdout",
     "output_type": "stream",
     "text": [
      "torch.Size([4271, 256])\n"
     ]
    },
    {
     "name": "stderr",
     "output_type": "stream",
     "text": [
      "(T): 100%|██████████████████████████████████████| 3000/3000 [01:38<00:00, 30.54it/s, loss=6.87]\n"
     ]
    },
    {
     "name": "stdout",
     "output_type": "stream",
     "text": [
      "torch.Size([4271, 256])\n"
     ]
    },
    {
     "name": "stderr",
     "output_type": "stream",
     "text": [
      "(T): 100%|██████████████████████████████████████| 3000/3000 [01:37<00:00, 30.62it/s, loss=6.93]\n"
     ]
    },
    {
     "name": "stdout",
     "output_type": "stream",
     "text": [
      "torch.Size([4271, 256])\n"
     ]
    },
    {
     "name": "stderr",
     "output_type": "stream",
     "text": [
      "(T): 100%|██████████████████████████████████████| 3000/3000 [01:37<00:00, 30.63it/s, loss=6.96]\n"
     ]
    },
    {
     "name": "stdout",
     "output_type": "stream",
     "text": [
      "torch.Size([4271, 256])\n"
     ]
    },
    {
     "name": "stderr",
     "output_type": "stream",
     "text": [
      "(T): 100%|██████████████████████████████████████| 3000/3000 [01:39<00:00, 30.26it/s, loss=7.14]\n"
     ]
    },
    {
     "name": "stdout",
     "output_type": "stream",
     "text": [
      "torch.Size([4271, 256])\n"
     ]
    },
    {
     "name": "stderr",
     "output_type": "stream",
     "text": [
      "(T): 100%|██████████████████████████████████████| 3000/3000 [01:38<00:00, 30.47it/s, loss=7.12]\n"
     ]
    },
    {
     "name": "stdout",
     "output_type": "stream",
     "text": [
      "torch.Size([4271, 256])\n"
     ]
    },
    {
     "name": "stderr",
     "output_type": "stream",
     "text": [
      "(T): 100%|██████████████████████████████████████| 3000/3000 [01:38<00:00, 30.49it/s, loss=7.12]\n"
     ]
    },
    {
     "name": "stdout",
     "output_type": "stream",
     "text": [
      "torch.Size([4271, 256])\n"
     ]
    },
    {
     "name": "stderr",
     "output_type": "stream",
     "text": [
      "(T): 100%|██████████████████████████████████████| 3000/3000 [01:38<00:00, 30.48it/s, loss=7.08]\n"
     ]
    },
    {
     "name": "stdout",
     "output_type": "stream",
     "text": [
      "torch.Size([4271, 256])\n"
     ]
    },
    {
     "name": "stderr",
     "output_type": "stream",
     "text": [
      "(T): 100%|██████████████████████████████████████| 3000/3000 [01:38<00:00, 30.54it/s, loss=7.22]\n"
     ]
    },
    {
     "name": "stdout",
     "output_type": "stream",
     "text": [
      "torch.Size([4271, 256])\n"
     ]
    }
   ],
   "source": [
    "#调参\n",
    "d={}\n",
    "for x in np.arange(0.1,0.9,0.1):\n",
    "    ari_klist1, ari_llist1 = main(x)\n",
    "    ari_klist2, ari_llist1 = main(x)\n",
    "    ari_klist3, ari_llist1 = main(x)\n",
    "    ari_klist4, ari_llist1 = main(x)\n",
    "    ari_klist5, ari_llist1 = main(x)\n",
    "    ari_klist = (ari_klist1[0] + ari_klist2[0] + ari_klist3[0] + ari_klist4[0] + ari_klist5[0]) / 5\n",
    "    \n",
    "    d[\"ari{0}\".format(x)]= ari_klist"
   ]
  }
 ],
 "metadata": {
  "kernelspec": {
   "display_name": "Python [conda env:gclsc]",
   "language": "python",
   "name": "conda-env-gclsc-py"
  },
  "language_info": {
   "codemirror_mode": {
    "name": "ipython",
    "version": 3
   },
   "file_extension": ".py",
   "mimetype": "text/x-python",
   "name": "python",
   "nbconvert_exporter": "python",
   "pygments_lexer": "ipython3",
   "version": "3.8.12"
  }
 },
 "nbformat": 4,
 "nbformat_minor": 5
}
